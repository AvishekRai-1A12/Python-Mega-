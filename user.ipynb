{
 "cells": [
  {
   "cell_type": "code",
   "execution_count": 1,
   "id": "c8bc478f",
   "metadata": {},
   "outputs": [
    {
     "name": "stdout",
     "output_type": "stream",
     "text": [
      "enter your first name: avishek\n",
      "rnter your second name: rai\n"
     ]
    }
   ],
   "source": [
    "f_name = input(\"enter your first name: \")\n",
    "l_name = input(\"rnter your second name: \")"
   ]
  },
  {
   "cell_type": "code",
   "execution_count": 5,
   "id": "10e0e991",
   "metadata": {},
   "outputs": [
    {
     "name": "stdout",
     "output_type": "stream",
     "text": [
      "your name is avishek rai\n"
     ]
    }
   ],
   "source": [
    "print(\"your name is \"+f_name+' '+l_name  )"
   ]
  },
  {
   "cell_type": "code",
   "execution_count": 10,
   "id": "b76a85d4",
   "metadata": {},
   "outputs": [
    {
     "name": "stdout",
     "output_type": "stream",
     "text": [
      "enter your first num: 4\n",
      "enter your second num: 5\n"
     ]
    }
   ],
   "source": [
    "num1 = int(input(\"enter your first num: \"))\n",
    "num2 = int(input(\"enter your second num: \"))"
   ]
  },
  {
   "cell_type": "code",
   "execution_count": 11,
   "id": "be7dc325",
   "metadata": {},
   "outputs": [],
   "source": [
    "sum=num1+num2"
   ]
  },
  {
   "cell_type": "code",
   "execution_count": 12,
   "id": "7c4e2eab",
   "metadata": {},
   "outputs": [
    {
     "data": {
      "text/plain": [
       "9"
      ]
     },
     "execution_count": 12,
     "metadata": {},
     "output_type": "execute_result"
    }
   ],
   "source": [
    "sum\n"
   ]
  },
  {
   "cell_type": "code",
   "execution_count": 1,
   "id": "a7d5759f",
   "metadata": {},
   "outputs": [
    {
     "name": "stdout",
     "output_type": "stream",
     "text": [
      "enter your first num: 2.5\n",
      "enter your second num: 2.6\n"
     ]
    }
   ],
   "source": [
    "num3 = float(input(\"enter your first num: \"))\n",
    "num4 = float(input(\"enter your second num: \"))"
   ]
  },
  {
   "cell_type": "code",
   "execution_count": 2,
   "id": "1c933c77",
   "metadata": {},
   "outputs": [],
   "source": [
    "diff=num3-num4"
   ]
  },
  {
   "cell_type": "code",
   "execution_count": 3,
   "id": "810263d5",
   "metadata": {},
   "outputs": [
    {
     "data": {
      "text/plain": [
       "-0.10000000000000009"
      ]
     },
     "execution_count": 3,
     "metadata": {},
     "output_type": "execute_result"
    }
   ],
   "source": [
    "diff\n"
   ]
  },
  {
   "cell_type": "code",
   "execution_count": 12,
   "id": "25a047d9",
   "metadata": {},
   "outputs": [
    {
     "name": "stdout",
     "output_type": "stream",
     "text": [
      "enter your first num: 2.5\n",
      "enter your second num: 1.5\n"
     ]
    }
   ],
   "source": [
    "num5 = float(input(\"enter your first num: \")) #take input from user\n",
    "num6 = float(input(\"enter your second num: \"))\n"
   ]
  },
  {
   "cell_type": "code",
   "execution_count": 13,
   "id": "9c44ca5b",
   "metadata": {},
   "outputs": [],
   "source": [
    "mul1=num5*num6"
   ]
  },
  {
   "cell_type": "code",
   "execution_count": 14,
   "id": "9d6870a1",
   "metadata": {},
   "outputs": [
    {
     "data": {
      "text/plain": [
       "3.75"
      ]
     },
     "execution_count": 14,
     "metadata": {},
     "output_type": "execute_result"
    }
   ],
   "source": [
    "mul1"
   ]
  },
  {
   "cell_type": "code",
   "execution_count": 15,
   "id": "9776052f",
   "metadata": {},
   "outputs": [
    {
     "data": {
      "text/plain": [
       "3.952847075210474"
      ]
     },
     "execution_count": 15,
     "metadata": {},
     "output_type": "execute_result"
    }
   ],
   "source": [
    "num5**num6"
   ]
  },
  {
   "cell_type": "code",
   "execution_count": 16,
   "id": "6b3ccb84",
   "metadata": {},
   "outputs": [
    {
     "data": {
      "text/plain": [
       "4.0"
      ]
     },
     "execution_count": 16,
     "metadata": {},
     "output_type": "execute_result"
    }
   ],
   "source": [
    "8/2\n"
   ]
  },
  {
   "cell_type": "code",
   "execution_count": 17,
   "id": "f70b9bc9",
   "metadata": {},
   "outputs": [
    {
     "data": {
      "text/plain": [
       "0.6"
      ]
     },
     "execution_count": 17,
     "metadata": {},
     "output_type": "execute_result"
    }
   ],
   "source": [
    "3/5"
   ]
  },
  {
   "cell_type": "code",
   "execution_count": 18,
   "id": "be6a053e",
   "metadata": {},
   "outputs": [
    {
     "data": {
      "text/plain": [
       "8.7"
      ]
     },
     "execution_count": 18,
     "metadata": {},
     "output_type": "execute_result"
    }
   ],
   "source": [
    "8.7"
   ]
  },
  {
   "cell_type": "code",
   "execution_count": 19,
   "id": "c3376476",
   "metadata": {},
   "outputs": [
    {
     "data": {
      "text/plain": [
       "1"
      ]
     },
     "execution_count": 19,
     "metadata": {},
     "output_type": "execute_result"
    }
   ],
   "source": [
    "8//7"
   ]
  },
  {
   "cell_type": "code",
   "execution_count": null,
   "id": "11331f91",
   "metadata": {},
   "outputs": [],
   "source": []
  }
 ],
 "metadata": {
  "kernelspec": {
   "display_name": "Python 3 (ipykernel)",
   "language": "python",
   "name": "python3"
  },
  "language_info": {
   "codemirror_mode": {
    "name": "ipython",
    "version": 3
   },
   "file_extension": ".py",
   "mimetype": "text/x-python",
   "name": "python",
   "nbconvert_exporter": "python",
   "pygments_lexer": "ipython3",
   "version": "3.11.1"
  }
 },
 "nbformat": 4,
 "nbformat_minor": 5
}
