{
 "cells": [
  {
   "cell_type": "markdown",
   "id": "13dbbe58",
   "metadata": {},
   "source": [
    "\n",
    "# List"
   ]
  },
  {
   "cell_type": "code",
   "execution_count": 1,
   "id": "0515eda2",
   "metadata": {},
   "outputs": [],
   "source": [
    "lst = [1,2,3, 'hi',2.633333,'shiv','hexcode']"
   ]
  },
  {
   "cell_type": "code",
   "execution_count": 4,
   "id": "3fe5ba1e",
   "metadata": {},
   "outputs": [
    {
     "data": {
      "text/plain": [
       "list"
      ]
     },
     "execution_count": 4,
     "metadata": {},
     "output_type": "execute_result"
    }
   ],
   "source": [
    "type(lst)"
   ]
  },
  {
   "cell_type": "code",
   "execution_count": 5,
   "id": "43d1d646",
   "metadata": {},
   "outputs": [
    {
     "data": {
      "text/plain": [
       "3"
      ]
     },
     "execution_count": 5,
     "metadata": {},
     "output_type": "execute_result"
    }
   ],
   "source": [
    "lst[2]# list is use for element in side the list"
   ]
  },
  {
   "cell_type": "code",
   "execution_count": 6,
   "id": "30b19dab",
   "metadata": {},
   "outputs": [
    {
     "data": {
      "text/plain": [
       "int"
      ]
     },
     "execution_count": 6,
     "metadata": {},
     "output_type": "execute_result"
    }
   ],
   "source": [
    "type(lst[2])"
   ]
  },
  {
   "cell_type": "code",
   "execution_count": 7,
   "id": "a8672ee0",
   "metadata": {},
   "outputs": [
    {
     "data": {
      "text/plain": [
       "'hi'"
      ]
     },
     "execution_count": 7,
     "metadata": {},
     "output_type": "execute_result"
    }
   ],
   "source": [
    "lst[3]"
   ]
  },
  {
   "cell_type": "code",
   "execution_count": 8,
   "id": "aa463ea6",
   "metadata": {},
   "outputs": [],
   "source": [
    "lst=[1,2,3,'abishek',3.4,'rai']"
   ]
  },
  {
   "cell_type": "code",
   "execution_count": 16,
   "id": "3308de9d",
   "metadata": {},
   "outputs": [
    {
     "data": {
      "text/plain": [
       "'abishek rai'"
      ]
     },
     "execution_count": 16,
     "metadata": {},
     "output_type": "execute_result"
    }
   ],
   "source": [
    "lst[3]+' '+lst[5]"
   ]
  },
  {
   "cell_type": "code",
   "execution_count": 17,
   "id": "62db55d5",
   "metadata": {},
   "outputs": [
    {
     "data": {
      "text/plain": [
       "6"
      ]
     },
     "execution_count": 17,
     "metadata": {},
     "output_type": "execute_result"
    }
   ],
   "source": [
    "len(lst)"
   ]
  },
  {
   "cell_type": "code",
   "execution_count": 18,
   "id": "89315f75",
   "metadata": {},
   "outputs": [
    {
     "data": {
      "text/plain": [
       "[3, 'abishek', 3.4]"
      ]
     },
     "execution_count": 18,
     "metadata": {},
     "output_type": "execute_result"
    }
   ],
   "source": [
    "lst[2:5]"
   ]
  },
  {
   "cell_type": "code",
   "execution_count": 19,
   "id": "d542cdd9",
   "metadata": {},
   "outputs": [
    {
     "data": {
      "text/plain": [
       "3.4"
      ]
     },
     "execution_count": 19,
     "metadata": {},
     "output_type": "execute_result"
    }
   ],
   "source": [
    "lst[-2]"
   ]
  },
  {
   "cell_type": "code",
   "execution_count": 20,
   "id": "68f3e42e",
   "metadata": {},
   "outputs": [],
   "source": [
    "lst1=[]#empty list"
   ]
  },
  {
   "cell_type": "code",
   "execution_count": 33,
   "id": "d08f56ed",
   "metadata": {},
   "outputs": [],
   "source": [
    "lst1.append('hex')  #help to fullfuil in empty list"
   ]
  },
  {
   "cell_type": "code",
   "execution_count": 29,
   "id": "83e3b29b",
   "metadata": {},
   "outputs": [],
   "source": [
    "lst1.append('nepal')"
   ]
  },
  {
   "cell_type": "code",
   "execution_count": 30,
   "id": "77a7dc80",
   "metadata": {},
   "outputs": [],
   "source": [
    "lst1.append('2.33')"
   ]
  },
  {
   "cell_type": "code",
   "execution_count": 31,
   "id": "270be464",
   "metadata": {},
   "outputs": [],
   "source": [
    "lst1.append('python')"
   ]
  },
  {
   "cell_type": "code",
   "execution_count": 32,
   "id": "94f48bf7",
   "metadata": {},
   "outputs": [
    {
     "data": {
      "text/plain": [
       "['hex', 'hex', 'nepal', '2.33', 'python']"
      ]
     },
     "execution_count": 32,
     "metadata": {},
     "output_type": "execute_result"
    }
   ],
   "source": [
    "lst1"
   ]
  },
  {
   "cell_type": "code",
   "execution_count": 36,
   "id": "91098a96",
   "metadata": {},
   "outputs": [],
   "source": [
    "lst1.insert(1,'code')#insert help to enter the date in list"
   ]
  },
  {
   "cell_type": "code",
   "execution_count": 37,
   "id": "1ea3c150",
   "metadata": {},
   "outputs": [
    {
     "data": {
      "text/plain": [
       "['hex', 'code', 'code', 'hex', 'nepal', '2.33', 'python', 'hex']"
      ]
     },
     "execution_count": 37,
     "metadata": {},
     "output_type": "execute_result"
    }
   ],
   "source": [
    "lst1"
   ]
  },
  {
   "cell_type": "code",
   "execution_count": 42,
   "id": "c7166545",
   "metadata": {},
   "outputs": [],
   "source": [
    "lst1[1]=\"Academy\" # help to replace in the list "
   ]
  },
  {
   "cell_type": "code",
   "execution_count": 43,
   "id": "9d82e2e7",
   "metadata": {},
   "outputs": [
    {
     "data": {
      "text/plain": [
       "['hex', 'Academy', 'code', 'hex', 'nepal', '2.33', 'python', 'hex']"
      ]
     },
     "execution_count": 43,
     "metadata": {},
     "output_type": "execute_result"
    }
   ],
   "source": [
    "lst1"
   ]
  },
  {
   "cell_type": "code",
   "execution_count": 45,
   "id": "117489a1",
   "metadata": {},
   "outputs": [],
   "source": [
    "lst3=[]"
   ]
  },
  {
   "cell_type": "code",
   "execution_count": 46,
   "id": "b38adfc3",
   "metadata": {},
   "outputs": [],
   "source": [
    "lst3.append('hex')"
   ]
  },
  {
   "cell_type": "code",
   "execution_count": 47,
   "id": "fae0cb45",
   "metadata": {},
   "outputs": [],
   "source": [
    "lst3.append('code')"
   ]
  },
  {
   "cell_type": "code",
   "execution_count": 48,
   "id": "78bb3056",
   "metadata": {},
   "outputs": [],
   "source": [
    "lst3.append('academy')"
   ]
  },
  {
   "cell_type": "code",
   "execution_count": 2,
   "id": "66c8b0e5",
   "metadata": {
    "collapsed": true
   },
   "outputs": [
    {
     "ename": "NameError",
     "evalue": "name 'lst3' is not defined",
     "output_type": "error",
     "traceback": [
      "\u001b[1;31m---------------------------------------------------------------------------\u001b[0m",
      "\u001b[1;31mNameError\u001b[0m                                 Traceback (most recent call last)",
      "Cell \u001b[1;32mIn[2], line 1\u001b[0m\n\u001b[1;32m----> 1\u001b[0m \u001b[43mlst3\u001b[49m\u001b[38;5;241m.\u001b[39mappend(\u001b[38;5;241m2.4\u001b[39m)\n",
      "\u001b[1;31mNameError\u001b[0m: name 'lst3' is not defined"
     ]
    }
   ],
   "source": [
    "lst3.append(2.4)"
   ]
  },
  {
   "cell_type": "code",
   "execution_count": null,
   "id": "77d1f0c1",
   "metadata": {},
   "outputs": [],
   "source": []
  }
 ],
 "metadata": {
  "kernelspec": {
   "display_name": "Python 3 (ipykernel)",
   "language": "python",
   "name": "python3"
  },
  "language_info": {
   "codemirror_mode": {
    "name": "ipython",
    "version": 3
   },
   "file_extension": ".py",
   "mimetype": "text/x-python",
   "name": "python",
   "nbconvert_exporter": "python",
   "pygments_lexer": "ipython3",
   "version": "3.11.1"
  }
 },
 "nbformat": 4,
 "nbformat_minor": 5
}
