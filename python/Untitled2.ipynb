{
 "cells": [
  {
   "cell_type": "markdown",
   "id": "7f6b62a0",
   "metadata": {},
   "source": [
    "\n",
    "\n",
    "# Dictionay"
   ]
  },
  {
   "cell_type": "code",
   "execution_count": 5,
   "id": "c1d8b304",
   "metadata": {},
   "outputs": [],
   "source": [
    "info={'name': 'avisehek rai','Roll':'12','college': 'Medhavi','semester':'2nd','programe':'BCIS'}"
   ]
  },
  {
   "cell_type": "code",
   "execution_count": 9,
   "id": "b1d15d2a",
   "metadata": {},
   "outputs": [
    {
     "data": {
      "text/plain": [
       "dict_keys(['name', 'Roll', 'college', 'semester', 'programe'])"
      ]
     },
     "execution_count": 9,
     "metadata": {},
     "output_type": "execute_result"
    }
   ],
   "source": [
    "info.keys() #to dispaly the key words"
   ]
  },
  {
   "cell_type": "code",
   "execution_count": 10,
   "id": "a6f05547",
   "metadata": {},
   "outputs": [
    {
     "data": {
      "text/plain": [
       "'12'"
      ]
     },
     "execution_count": 10,
     "metadata": {},
     "output_type": "execute_result"
    }
   ],
   "source": [
    "info['Roll']"
   ]
  },
  {
   "cell_type": "code",
   "execution_count": 11,
   "id": "54439f4d",
   "metadata": {},
   "outputs": [],
   "source": [
    "info['college']='Najameti'"
   ]
  },
  {
   "cell_type": "code",
   "execution_count": 13,
   "id": "42b9948c",
   "metadata": {},
   "outputs": [
    {
     "data": {
      "text/plain": [
       "dict_keys(['name', 'Roll', 'college', 'semester', 'programe'])"
      ]
     },
     "execution_count": 13,
     "metadata": {},
     "output_type": "execute_result"
    }
   ],
   "source": [
    "info.keys()"
   ]
  },
  {
   "cell_type": "code",
   "execution_count": 14,
   "id": "8a3be197",
   "metadata": {},
   "outputs": [
    {
     "data": {
      "text/plain": [
       "{'name': 'avisehek rai',\n",
       " 'Roll': '12',\n",
       " 'college': 'Najameti',\n",
       " 'semester': '2nd',\n",
       " 'programe': 'BCIS'}"
      ]
     },
     "execution_count": 14,
     "metadata": {},
     "output_type": "execute_result"
    }
   ],
   "source": [
    "info"
   ]
  },
  {
   "cell_type": "code",
   "execution_count": 15,
   "id": "5499874b",
   "metadata": {},
   "outputs": [
    {
     "data": {
      "text/plain": [
       "dict_values(['avisehek rai', '12', 'Najameti', '2nd', 'BCIS'])"
      ]
     },
     "execution_count": 15,
     "metadata": {},
     "output_type": "execute_result"
    }
   ],
   "source": [
    "info.values()"
   ]
  },
  {
   "cell_type": "code",
   "execution_count": 16,
   "id": "79ccbefc",
   "metadata": {},
   "outputs": [],
   "source": [
    "info['Remarks']='topper'"
   ]
  },
  {
   "cell_type": "code",
   "execution_count": 17,
   "id": "9abed5ab",
   "metadata": {},
   "outputs": [
    {
     "data": {
      "text/plain": [
       "{'name': 'avisehek rai',\n",
       " 'Roll': '12',\n",
       " 'college': 'Najameti',\n",
       " 'semester': '2nd',\n",
       " 'programe': 'BCIS',\n",
       " 'Remarks': 'topper'}"
      ]
     },
     "execution_count": 17,
     "metadata": {},
     "output_type": "execute_result"
    }
   ],
   "source": [
    "info"
   ]
  },
  {
   "cell_type": "code",
   "execution_count": 19,
   "id": "87b71e71",
   "metadata": {},
   "outputs": [
    {
     "data": {
      "text/plain": [
       "'topper'"
      ]
     },
     "execution_count": 19,
     "metadata": {},
     "output_type": "execute_result"
    }
   ],
   "source": [
    "info.pop('Remarks')"
   ]
  },
  {
   "cell_type": "code",
   "execution_count": 20,
   "id": "4d7421e1",
   "metadata": {},
   "outputs": [
    {
     "data": {
      "text/plain": [
       "{'name': 'avisehek rai',\n",
       " 'Roll': '12',\n",
       " 'college': 'Najameti',\n",
       " 'semester': '2nd',\n",
       " 'programe': 'BCIS'}"
      ]
     },
     "execution_count": 20,
     "metadata": {},
     "output_type": "execute_result"
    }
   ],
   "source": [
    "info"
   ]
  },
  {
   "cell_type": "code",
   "execution_count": 22,
   "id": "79146640",
   "metadata": {},
   "outputs": [],
   "source": [
    "info.update({'Reg.No':'2022123'})#help to update element in the list "
   ]
  },
  {
   "cell_type": "code",
   "execution_count": 23,
   "id": "8ecb566c",
   "metadata": {},
   "outputs": [
    {
     "data": {
      "text/plain": [
       "{'name': 'avisehek rai',\n",
       " 'Roll': '12',\n",
       " 'college': 'Najameti',\n",
       " 'semester': '2nd',\n",
       " 'programe': 'BCIS',\n",
       " 'Reg.No': '2022123'}"
      ]
     },
     "execution_count": 23,
     "metadata": {},
     "output_type": "execute_result"
    }
   ],
   "source": [
    "info"
   ]
  },
  {
   "cell_type": "markdown",
   "id": "c0d17630",
   "metadata": {},
   "source": [
    "# Tuples"
   ]
  },
  {
   "cell_type": "code",
   "execution_count": 29,
   "id": "f157e6bf",
   "metadata": {},
   "outputs": [],
   "source": [
    "x=(1,2,3,3,\"hi\")"
   ]
  },
  {
   "cell_type": "code",
   "execution_count": 30,
   "id": "24523654",
   "metadata": {},
   "outputs": [
    {
     "data": {
      "text/plain": [
       "1"
      ]
     },
     "execution_count": 30,
     "metadata": {},
     "output_type": "execute_result"
    }
   ],
   "source": [
    "x.count(1)#help to count the element in the list "
   ]
  },
  {
   "cell_type": "code",
   "execution_count": 31,
   "id": "fda2fb78",
   "metadata": {},
   "outputs": [
    {
     "data": {
      "text/plain": [
       "1"
      ]
     },
     "execution_count": 31,
     "metadata": {},
     "output_type": "execute_result"
    }
   ],
   "source": [
    "x[0]"
   ]
  },
  {
   "cell_type": "code",
   "execution_count": 32,
   "id": "65692b5d",
   "metadata": {},
   "outputs": [
    {
     "data": {
      "text/plain": [
       "2"
      ]
     },
     "execution_count": 32,
     "metadata": {},
     "output_type": "execute_result"
    }
   ],
   "source": [
    "x.count(3)"
   ]
  },
  {
   "cell_type": "code",
   "execution_count": null,
   "id": "9e6fd6a4",
   "metadata": {},
   "outputs": [],
   "source": []
  }
 ],
 "metadata": {
  "kernelspec": {
   "display_name": "Python 3 (ipykernel)",
   "language": "python",
   "name": "python3"
  },
  "language_info": {
   "codemirror_mode": {
    "name": "ipython",
    "version": 3
   },
   "file_extension": ".py",
   "mimetype": "text/x-python",
   "name": "python",
   "nbconvert_exporter": "python",
   "pygments_lexer": "ipython3",
   "version": "3.11.1"
  }
 },
 "nbformat": 4,
 "nbformat_minor": 5
}
