{
 "cells": [
  {
   "cell_type": "code",
   "execution_count": 1,
   "id": "38ea9008",
   "metadata": {},
   "outputs": [],
   "source": [
    "x=\"hex\"\n"
   ]
  },
  {
   "cell_type": "code",
   "execution_count": 2,
   "id": "c7d0fe6b",
   "metadata": {},
   "outputs": [],
   "source": [
    "y=\"nepal\""
   ]
  },
  {
   "cell_type": "code",
   "execution_count": 5,
   "id": "4e660613",
   "metadata": {},
   "outputs": [],
   "source": [
    "sum=x+\" \"+y"
   ]
  },
  {
   "cell_type": "code",
   "execution_count": 6,
   "id": "c40bc637",
   "metadata": {},
   "outputs": [
    {
     "name": "stdout",
     "output_type": "stream",
     "text": [
      "hex nepal\n"
     ]
    }
   ],
   "source": [
    "print(sum)"
   ]
  },
  {
   "cell_type": "code",
   "execution_count": null,
   "id": "8d765110",
   "metadata": {},
   "outputs": [],
   "source": []
  }
 ],
 "metadata": {
  "kernelspec": {
   "display_name": "Python 3 (ipykernel)",
   "language": "python",
   "name": "python3"
  },
  "language_info": {
   "codemirror_mode": {
    "name": "ipython",
    "version": 3
   },
   "file_extension": ".py",
   "mimetype": "text/x-python",
   "name": "python",
   "nbconvert_exporter": "python",
   "pygments_lexer": "ipython3",
   "version": "3.11.1"
  }
 },
 "nbformat": 4,
 "nbformat_minor": 5
}
